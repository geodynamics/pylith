{
 "cells": [
  {
   "cell_type": "code",
   "execution_count": 3,
   "id": "6ac3866e",
   "metadata": {},
   "outputs": [],
   "source": [
    "import sympy"
   ]
  },
  {
   "cell_type": "markdown",
   "id": "f4b6f80c",
   "metadata": {},
   "source": [
    "# Quasistatic Poroelasticity\n",
    "\n",
    "The governing equations are\n",
    "\n",
    "\\begin{gather}\n",
    "% Solution\n",
    "\\vec{s}^{T} = \\left(\\vec{u} \\quad p \\quad \\vec{\\epsilon}_v \\quad \\lambda \\right) \\\\\n",
    "% Displacement\n",
    "\\vec{f}(\\vec{x},t) + \\nabla \\cdot \\boldsymbol{\\sigma}(\\vec{u},p) = 0 \\text{ in } \\Omega \\\\\n",
    "% Pressure\n",
    "\\frac{\\partial \\zeta(\\vec{u},p)}{\\partial t } - \\gamma(\\vec{x},t) + \\nabla \\cdot \\vec{q}(p) = 0 \\text{ in } \\Omega \\\\\n",
    "% Neumann traction\n",
    "\\boldsymbol{\\sigma} \\cdot \\vec{n} = \\vec{\\tau}(\\vec{x},t) \\text{ on } \\Gamma_{\\tau} \\\\\n",
    "% Dirichlet displacement\n",
    "\\vec{u} = \\vec{u}_{0}(\\vec{x}, t) \\text{ on } \\Gamma_{u} \\\\\n",
    "% Neumann flow\n",
    "\\vec{q} \\cdot \\vec{n} = q_{0}(\\vec{x}, t) \\text{ on } \\Gamma_{q} \\\\\n",
    "% Dirichlet pressure\n",
    "p = p_{0}(\\vec{x},t) \\text{ on } \\Gamma_{p}\n",
    "\\end{gather}\n",
    "\n",
    "where\n",
    "\n",
    "\\begin{gather}\n",
    "%\n",
    "  \\vec{q}(p) = -\\frac{\\boldsymbol{k}}{\\mu_{f}}(\\nabla p - \\vec{f}_f), \\\\\n",
    "%\n",
    "  \\zeta(\\vec{u},p) = \\alpha (\\nabla \\cdot \\vec{u}) + \\frac{p}{M}, \\\\\n",
    "%\n",
    "  \\boldsymbol{\\sigma}(\\vec{u},p) = \\boldsymbol{C}:\\boldsymbol{\\epsilon} - \\alpha p \\boldsymbol{I}\n",
    "  = \\lambda \\boldsymbol{I} \\epsilon_{v} + 2 \\mu \\boldsymbol{\\epsilon}  - \\alpha \\boldsymbol{I} p, \\\\\n",
    "  \\alpha = 1 - \\frac{K_d}{K_f}, \\\\\n",
    "\\epsilon_{v} = \\nabla \\cdot \\vec{u},\n",
    "\\end{gather}\n",
    "\n",
    "$M$ denotes the Biot modulus, $\\alpha$ denotes the Biot coefficient, $K_d$ denotes the bulk modulus of the drained system, $K_s$ denotes the bulk modulus of the solid, and $K_f$ denotes the bulk modulus of the fluid, $\\mu$ denotes the shear modulus, and $\\epsilon_{v}$ denotes the volumetric strain."
   ]
  },
  {
   "cell_type": "markdown",
   "id": "f8012546",
   "metadata": {},
   "source": [
    "## Test Case: Linear Gradient in Fluid Pressure\n",
    "\n",
    "We consider a linear gradient in fluid pressure along the x direction and a constant background axial stress in the x direction,\n",
    "\n",
    "\\begin{aligned}\n",
    "p(x) &= p_0 \\left( 1 - \\frac{x}{L} \\right), \\\\\n",
    "\\sigma_{xx} &= \\sigma_0.\n",
    "\\end{aligned}\n",
    "\n",
    "Solving for $\\vec{q}$ with $\\vec{f}_f = \\vec{0}$, we have\n",
    "\n",
    "\\begin{aligned}\n",
    "q_x &= \\frac{k}{\\mu_f} \\frac{p_0}{L}\\\\\n",
    "q_y &= 0\n",
    "\\end{aligned}\n",
    "\n",
    "The elasticity equation means $\\sigma_{xx} = \\sigma_0$ which leads to\n",
    "\n",
    "\\begin{aligned}\n",
    "\\epsilon_{xx} &= \\frac{1}{\\lambda + 2\\mu} \\left(\\sigma_0 + \\alpha p_0 \\left(1-\\frac{x}{l}\\right) \\right), \\\\\n",
    "u_x(x) &= u_0 + \\frac{1}{\\lambda + 2\\mu} \\left(\\sigma_0 x + \\alpha p_0 x - \\frac{1}{2} \\alpha p_0 \\frac{x^2}{l} \\right), \\\\\n",
    "u_y &= 0, \\\\\n",
    "u_0 &= \\frac{l}{\\lambda + 2\\mu} \\left(-\\sigma_0 - \\frac{1}{2} \\alpha p_0 \\right), \\\\\n",
    "\\epsilon_v &= - \\frac{\\alpha p_0}{\\lambda + 2\\mu} \\frac{x}{L}, \\\\\n",
    "\\sigma_{xx} &= \\sigma_0, \\\\\n",
    "\\sigma_{yy} = \\sigma_{zz} &= \\frac{\\lambda}{\\lambda + 2\\mu} \\left(\\sigma_0 + \\alpha p_0 \\left(1 - \\frac{x}{l}\\right) \\right) - \\alpha p_0 \\left(1 - \\frac{x}{l}\\right), \\\\\n",
    "\\sigma_{xy} &= 0.\n",
    "\\end{aligned}"
   ]
  },
  {
   "cell_type": "markdown",
   "id": "64067513",
   "metadata": {},
   "source": [
    "### Verify the analytical solution"
   ]
  },
  {
   "cell_type": "code",
   "execution_count": 5,
   "id": "b9c01bda",
   "metadata": {},
   "outputs": [],
   "source": [
    "# Define symbolic variable\n",
    "x, y = sympy.symbols(\"x, y\")\n",
    "\n",
    "# Define symbolic constants\n",
    "p0, s0, l = sympy.symbols(\"p0, s0, l\")\n",
    "\n",
    "# Material parameters\n",
    "λ, μ, ϕ, α, μf, k, ρb, ρf, M = sympy.symbols(\"λ, μ, ϕ, α, μf, k, ρb, ρf, M\")\n",
    "\n",
    "# Analytical solution\n",
    "u0 = l/(λ+2*μ) * (-s0 - 0.5*α*p0)\n",
    "ux = u0 + 1/(λ+2*μ) * ( s0*x + α*p0*x - 0.5*α*p0* x**2 / l )\n",
    "uy = 0 * x\n",
    "p = p0 * (1 - x/l)\n",
    "\n",
    "# Derivatives for governing equations\n",
    "ux_x = ux.diff(x)\n",
    "ux_y = ux.diff(y)\n",
    "uy_x = uy.diff(x)\n",
    "uy_y = uy.diff(y)\n",
    "p_x = p.diff(x)\n",
    "p_y = p.diff(y)\n",
    "grad_p = sympy.Matrix([p_x, p_y])\n",
    "\n",
    "# Body force for fluid phase (assume 0)\n",
    "ff = sympy.Matrix([0., 0.])\n",
    "\n",
    "# Darcy flux; Generalized Dacy's law\n",
    "q = -(k/μf)*( grad_p + - ff)\n",
    "\n",
    "# Strain\n",
    "ϵxy = (ux_y + uy_x) / 2\n",
    "ϵ = sympy.Matrix([[ux_x, ϵxy],[ϵxy, uy_y]])\n",
    "ϵv = sympy.trace(ϵ)\n",
    "\n",
    "# Stress\n",
    "σ  = λ * ϵv * sympy.eye(2) + 2 * μ * ϵ - α * sympy.eye(2) * p\n",
    "\n",
    "# Variation of fluid content\n",
    "ζ = α * ϵv + p/M\n",
    "\n",
    "# Divergence of stress\n",
    "div_σ = sympy.Matrix([σ[0,0].diff(x) + σ[0,1].diff(y), σ[1,0].diff(x) + σ[1,1].diff(y)])\n",
    "\n",
    "# Divergence of flux\n",
    "div_q = q[0].diff(x) + q[1].diff(y)"
   ]
  },
  {
   "cell_type": "code",
   "execution_count": 6,
   "id": "5763dfae",
   "metadata": {},
   "outputs": [
    {
     "data": {
      "text/latex": [
       "$\\displaystyle \\left[\\begin{matrix}s_{0} & 0\\\\0 & \\frac{- 2 l p_{0} α μ + l s_{0} λ + 2 p_{0} x α μ}{l \\left(λ + 2 μ\\right)}\\end{matrix}\\right]$"
      ],
      "text/plain": [
       "Matrix([\n",
       "[s0,                                                 0],\n",
       "[ 0, (-2*l*p0*α*μ + l*s0*λ + 2*p0*x*α*μ)/(l*(λ + 2*μ))]])"
      ]
     },
     "execution_count": 6,
     "metadata": {},
     "output_type": "execute_result"
    }
   ],
   "source": [
    "sympy.simplify(σ)"
   ]
  },
  {
   "cell_type": "code",
   "execution_count": 7,
   "id": "63cb3e39",
   "metadata": {},
   "outputs": [
    {
     "data": {
      "text/latex": [
       "$\\displaystyle \\left[\\begin{matrix}\\frac{k p_{0}}{l μf}\\\\0\\end{matrix}\\right]$"
      ],
      "text/plain": [
       "Matrix([\n",
       "[k*p0/(l*μf)],\n",
       "[          0]])"
      ]
     },
     "execution_count": 7,
     "metadata": {},
     "output_type": "execute_result"
    }
   ],
   "source": [
    "sympy.simplify(q)"
   ]
  },
  {
   "cell_type": "code",
   "execution_count": 8,
   "id": "1a36a6c5",
   "metadata": {},
   "outputs": [
    {
     "data": {
      "text/latex": [
       "$\\displaystyle \\left[\\begin{matrix}0\\\\0\\end{matrix}\\right]$"
      ],
      "text/plain": [
       "Matrix([\n",
       "[0],\n",
       "[0]])"
      ]
     },
     "execution_count": 8,
     "metadata": {},
     "output_type": "execute_result"
    }
   ],
   "source": [
    "sympy.simplify(div_σ)"
   ]
  },
  {
   "cell_type": "code",
   "execution_count": 9,
   "id": "ede41eb7",
   "metadata": {},
   "outputs": [
    {
     "data": {
      "text/latex": [
       "$\\displaystyle 0$"
      ],
      "text/plain": [
       "0"
      ]
     },
     "execution_count": 9,
     "metadata": {},
     "output_type": "execute_result"
    }
   ],
   "source": [
    "sympy.simplify(div_q)"
   ]
  }
 ],
 "metadata": {
  "kernelspec": {
   "display_name": "pylith-debug",
   "language": "python",
   "name": "python3"
  },
  "language_info": {
   "codemirror_mode": {
    "name": "ipython",
    "version": 3
   },
   "file_extension": ".py",
   "mimetype": "text/x-python",
   "name": "python",
   "nbconvert_exporter": "python",
   "pygments_lexer": "ipython3",
   "version": "3.12.0"
  }
 },
 "nbformat": 4,
 "nbformat_minor": 5
}
