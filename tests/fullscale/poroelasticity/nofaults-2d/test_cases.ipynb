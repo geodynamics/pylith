{
 "cells": [
  {
   "cell_type": "code",
   "execution_count": 2,
   "id": "6ac3866e",
   "metadata": {},
   "outputs": [],
   "source": [
    "import sympy"
   ]
  },
  {
   "cell_type": "markdown",
   "id": "f4b6f80c",
   "metadata": {},
   "source": [
    "# Quasistatic Poroelasticity\n",
    "\n",
    "The governing equations are\n",
    "\n",
    "\\begin{gather}\n",
    "% Solution\n",
    "\\vec{s}^{T} = \\left(\\vec{u} \\quad p \\quad \\vec{\\epsilon}_v \\right) \\\\\n",
    "% Displacement\n",
    "\\vec{f}(\\vec{x},t) + \\nabla \\cdot \\boldsymbol{\\sigma}(\\vec{u},p) = 0 \\text{ in } \\Omega \\\\\n",
    "% Pressure\n",
    "\\frac{\\partial \\zeta(\\vec{u},p)}{\\partial t } - \\gamma(\\vec{x},t) + \\nabla \\cdot \\vec{q}(p) = 0 \\text{ in } \\Omega \\\\\n",
    "% Neumann traction\n",
    "\\boldsymbol{\\sigma} \\cdot \\vec{n} = \\vec{\\tau}(\\vec{x},t) \\text{ on } \\Gamma_{\\tau} \\\\\n",
    "% Dirichlet displacement\n",
    "\\vec{u} = \\vec{u}_{0}(\\vec{x}, t) \\text{ on } \\Gamma_{u} \\\\\n",
    "% Neumann flow\n",
    "\\vec{q} \\cdot \\vec{n} = q_{0}(\\vec{x}, t) \\text{ on } \\Gamma_{q} \\\\\n",
    "% Dirichlet pressure\n",
    "p = p_{0}(\\vec{x},t) \\text{ on } \\Gamma_{p}\n",
    "\\end{gather}\n",
    "\n",
    "where\n",
    "\n",
    "\\begin{gather}\n",
    "%\n",
    "  \\vec{q}(p) = -\\frac{\\boldsymbol{k}}{\\mu_{f}}(\\nabla p - \\vec{f}_f), \\\\\n",
    "%\n",
    "  \\zeta(\\vec{u},p) = \\alpha (\\nabla \\cdot \\vec{u}) + \\frac{p}{M}, \\\\\n",
    "%\n",
    "  \\boldsymbol{\\sigma}(\\vec{u},p) = \\boldsymbol{C}:\\boldsymbol{\\epsilon} - \\alpha p \\boldsymbol{I}\n",
    "  = \\lambda \\boldsymbol{I} \\epsilon_{v} + 2 \\mu \\boldsymbol{\\epsilon}  - \\alpha \\boldsymbol{I} p, \\\\\n",
    "\\lambda = K_{d} - \\frac{2}{3} \\mu, \\\\\n",
    "  \\frac{1}{M} = \\frac{\\alpha-\\phi}{K_s} + \\frac{\\phi}{K_f}, \\\\\n",
    "  \\alpha = 1 - \\frac{K_d}{K_f}, \\\\\n",
    "\\epsilon_{v} = \\nabla \\cdot \\vec{u},\n",
    "\\end{gather}\n",
    "\n",
    "$M$ denotes the Biot modulus, $\\alpha$ denotes the Biot coefficient, $1/M$ is the specific storage coefficient at constant strain, $K_d$ denotes the bulk modulus of the drained system, $K_s$ denotes the bulk modulus of the solid, and $K_f$ denotes the bulk modulus of the fluid, $\\mu$ denotes the shear modulus, and $\\epsilon_{v}$ denotes the volumetric strain."
   ]
  },
  {
   "cell_type": "markdown",
   "id": "f8012546",
   "metadata": {},
   "source": [
    "## Test Case: Gravitational Body Forces\n",
    "\n",
    "We consider the steady-state solution for loading from gravitational body forces,\n",
    "\n",
    "\\begin{gather}\n",
    "q_x = q_y = 0 \\Rightarrow \\nabla p + \\rho_f g = 0 \\\\\n",
    "p = -\\rho_f g y\n",
    "\\end{gather}\n",
    "\n",
    "Solving the elasticity equation leads to\n",
    "\n",
    "\\begin{aligned}\n",
    "\\sigma_{yy} &= \\rho_b g y, \\\\\n",
    "\\sigma_{xx} &= \\sigma_{zz} = \\frac{\\lambda}{\\lambda+2\\mu} \\rho_b g y + \\frac{2\\mu}{\\lambda+2\\mu} \\alpha \\rho_f g y, \\\\\n",
    "\\sigma_{xy} &= 0, \\\\\n",
    "\\epsilon_v &= -\\frac{1}{\\lambda + 2\\mu} \\left( \\rho_b - \\alpha \\rho_f \\right) g y, \\\\\n",
    "u_x &= 0, \\\\\n",
    "u_y(y) &= -\\frac{1}{2} \\frac{1}{\\lambda+2\\mu} \\left( \\rho_b - \\alpha \\rho_f \\right) g (l^2-y^2)\\\\\n",
    "\\end{aligned}"
   ]
  },
  {
   "cell_type": "markdown",
   "id": "64067513",
   "metadata": {},
   "source": [
    "### Verify the analytical solution"
   ]
  },
  {
   "cell_type": "code",
   "execution_count": 113,
   "id": "b9c01bda",
   "metadata": {},
   "outputs": [],
   "source": [
    "# Define symbolic variable\n",
    "x, y = sympy.symbols(\"x, y\")\n",
    "\n",
    "# Define symbolic constants\n",
    "g, l = sympy.symbols(\"g, l\")\n",
    "\n",
    "# Material parameters\n",
    "λ, μ, ϕ, α, μf, k, ρb, ρf, M = sympy.symbols(\"λ, μ, ϕ, α, μf, k, ρb, ρf, M\")\n",
    "\n",
    "# Analytical solution\n",
    "ux = 0*x\n",
    "uy = -0.5/(λ+2*μ) * (ρb-α*ρf) * g * (l**2-y**2)\n",
    "p = -ρf * g * y\n",
    "\n",
    "# Derivatives for governing equations\n",
    "ux_x = ux.diff(x)\n",
    "ux_y = ux.diff(y)\n",
    "uy_x = uy.diff(x)\n",
    "uy_y = uy.diff(y)\n",
    "p_x = p.diff(x)\n",
    "p_y = p.diff(y)\n",
    "grad_p = sympy.Matrix([p_x, p_y])\n",
    "\n",
    "# Body force for fluid phase\n",
    "ff = sympy.Matrix([0., -ρf * g])\n",
    "\n",
    "# Body force for solid phase\n",
    "fs = sympy.Matrix([0., -ρb * g])\n",
    "\n",
    "# Darcy flux; Generalized Dacy's law\n",
    "q = -(k/μf)*( grad_p - ff)\n",
    "\n",
    "# Strain\n",
    "ϵxy = (ux_y + uy_x) / 2\n",
    "ϵ = sympy.Matrix([[ux_x, ϵxy],[ϵxy, uy_y]])\n",
    "ϵv = sympy.trace(ϵ)\n",
    "\n",
    "# Stress\n",
    "σ  = λ * ϵv * sympy.eye(2) + 2 * μ * ϵ - α * sympy.eye(2) * p\n",
    "\n",
    "# Variation of fluid content\n",
    "ζ = α * ϵv + p/M\n",
    "\n",
    "# Divergence of stress\n",
    "div_σ = sympy.Matrix([σ[0,0].diff(x) + σ[0,1].diff(y), σ[1,0].diff(x) + σ[1,1].diff(y)])\n",
    "\n",
    "# Divergence of flux\n",
    "div_q = q[0].diff(x) + q[1].diff(y)"
   ]
  },
  {
   "cell_type": "code",
   "execution_count": 114,
   "id": "5763dfae",
   "metadata": {},
   "outputs": [
    {
     "data": {
      "text/latex": [
       "$\\displaystyle \\left[\\begin{matrix}\\frac{g y \\left(2.0 α μ ρf + 1.0 λ ρb\\right)}{1.0 λ + 2.0 μ} & 0\\\\0 & 1.0 g y ρb\\end{matrix}\\right]$"
      ],
      "text/plain": [
       "Matrix([\n",
       "[g*y*(2.0*α*μ*ρf + 1.0*λ*ρb)/(1.0*λ + 2.0*μ),          0],\n",
       "[                                          0, 1.0*g*y*ρb]])"
      ]
     },
     "execution_count": 114,
     "metadata": {},
     "output_type": "execute_result"
    }
   ],
   "source": [
    "sympy.simplify(σ)"
   ]
  },
  {
   "cell_type": "code",
   "execution_count": null,
   "id": "cafa8013",
   "metadata": {},
   "outputs": [
    {
     "data": {
      "text/latex": [
       "$\\displaystyle \\frac{1.0 g y \\left(- α ρf + ρb\\right)}{λ + 2 μ}$"
      ],
      "text/plain": [
       "1.0*g*y*(-α*ρf + ρb)/(λ + 2*μ)"
      ]
     },
     "metadata": {},
     "output_type": "display_data"
    }
   ],
   "source": [
    "ϵv"
   ]
  },
  {
   "cell_type": "code",
   "execution_count": 115,
   "id": "63cb3e39",
   "metadata": {},
   "outputs": [
    {
     "data": {
      "text/latex": [
       "$\\displaystyle \\left[\\begin{matrix}0\\\\0\\end{matrix}\\right]$"
      ],
      "text/plain": [
       "Matrix([\n",
       "[0],\n",
       "[0]])"
      ]
     },
     "execution_count": 115,
     "metadata": {},
     "output_type": "execute_result"
    }
   ],
   "source": [
    "sympy.simplify(q)"
   ]
  },
  {
   "cell_type": "code",
   "execution_count": 116,
   "id": "1a36a6c5",
   "metadata": {},
   "outputs": [
    {
     "data": {
      "text/latex": [
       "$\\displaystyle \\left[\\begin{matrix}0\\\\0\\end{matrix}\\right]$"
      ],
      "text/plain": [
       "Matrix([\n",
       "[0],\n",
       "[0]])"
      ]
     },
     "execution_count": 116,
     "metadata": {},
     "output_type": "execute_result"
    }
   ],
   "source": [
    "sympy.simplify(div_σ + fs)"
   ]
  },
  {
   "cell_type": "code",
   "execution_count": 118,
   "id": "b8866f0c",
   "metadata": {},
   "outputs": [
    {
     "data": {
      "text/latex": [
       "$\\displaystyle \\left[\\begin{matrix}0\\\\0\\end{matrix}\\right]$"
      ],
      "text/plain": [
       "Matrix([\n",
       "[0],\n",
       "[0]])"
      ]
     },
     "execution_count": 118,
     "metadata": {},
     "output_type": "execute_result"
    }
   ],
   "source": [
    "grad_p + -ff"
   ]
  },
  {
   "cell_type": "markdown",
   "id": "5d88af8c",
   "metadata": {},
   "source": [
    "## Test Case: Body Forces\n",
    "\n",
    "We consider the steady-state solution for loading from body forces,\n",
    "\n",
    "\\begin{gather}\n",
    "q_x = q_y = 0 \\Rightarrow \\nabla p + \\vec{f} = 0 \\\\\n",
    "p = -\\vec{f}\n",
    "\\end{gather}\n",
    "\n",
    "Solving the elasticity equation leads to\n",
    "\n",
    "\\begin{aligned}\n",
    "\\sigma_{xx} &= f_x x, \\\\\n",
    "\\sigma_{yy} &= \\sigma_{zz} = \\frac{\\lambda}{\\lambda+2\\mu} f_x x + \\frac{2\\mu}{\\lambda+2\\mu} \\alpha f_x x, \\\\\n",
    "\\sigma_{xy} &= 0, \\\\\n",
    "\\epsilon_v &= -\\frac{1}{\\lambda + 2\\mu} \\left( 1.0 - \\alpha \\right) f_x x, \\\\\n",
    "u_x(x) &= -\\frac{1}{2} \\frac{1}{\\lambda+2\\mu} \\left( 1.0 - \\alpha \\right) f_x (l^2-x^2), \\\\\n",
    "u_y &= 0. \\\\\n",
    "\\end{aligned}"
   ]
  },
  {
   "cell_type": "code",
   "execution_count": 159,
   "id": "77d2f849",
   "metadata": {},
   "outputs": [],
   "source": [
    "# Define symbolic variable\n",
    "x, y = sympy.symbols(\"x, y\")\n",
    "\n",
    "# Define symbolic constants\n",
    "l, fx = sympy.symbols(\"l, fx\")\n",
    "\n",
    "# Material parameters\n",
    "λ, μ, ϕ, α, μf, k, ρb, ρf, M = sympy.symbols(\"λ, μ, ϕ, α, μf, k, ρb, ρf, M\")\n",
    "\n",
    "# Analytical solution\n",
    "ux = 0.5/(λ+2*μ) * (1.0-α) * fx * (l**2-x**2)\n",
    "uy = 0*x\n",
    "p = fx * x\n",
    "\n",
    "# Derivatives for governing equations\n",
    "ux_x = ux.diff(x)\n",
    "ux_y = ux.diff(y)\n",
    "uy_x = uy.diff(x)\n",
    "uy_y = uy.diff(y)\n",
    "p_x = p.diff(x)\n",
    "p_y = p.diff(y)\n",
    "grad_p = sympy.Matrix([p_x, p_y])\n",
    "\n",
    "# Body force for fluid phase\n",
    "ff = sympy.Matrix([fx, 0.])\n",
    "\n",
    "# Body force for solid phase\n",
    "fs = sympy.Matrix([fx, 0.])\n",
    "\n",
    "# Darcy flux; Generalized Dacy's law\n",
    "q = -(k/μf)*( grad_p - ff)\n",
    "\n",
    "# Strain\n",
    "ϵxy = (ux_y + uy_x) / 2\n",
    "ϵ = sympy.Matrix([[ux_x, ϵxy],[ϵxy, uy_y]])\n",
    "ϵv = sympy.trace(ϵ)\n",
    "\n",
    "# Stress\n",
    "σ  = λ * ϵv * sympy.eye(2) + 2 * μ * ϵ - α * sympy.eye(2) * p\n",
    "\n",
    "# Variation of fluid content\n",
    "ζ = α * ϵv + p/M\n",
    "\n",
    "# Divergence of stress\n",
    "div_σ = sympy.Matrix([σ[0,0].diff(x) + σ[0,1].diff(y), σ[1,0].diff(x) + σ[1,1].diff(y)])\n",
    "\n",
    "# Divergence of flux\n",
    "div_q = q[0].diff(x) + q[1].diff(y)"
   ]
  },
  {
   "cell_type": "code",
   "execution_count": 160,
   "id": "4a20b159",
   "metadata": {},
   "outputs": [
    {
     "data": {
      "text/latex": [
       "$\\displaystyle \\left[\\begin{matrix}- 1.0 fx x & 0\\\\0 & \\frac{fx x \\left(- 2.0 α μ - 1.0 λ\\right)}{1.0 λ + 2.0 μ}\\end{matrix}\\right]$"
      ],
      "text/plain": [
       "Matrix([\n",
       "[-1.0*fx*x,                                       0],\n",
       "[        0, fx*x*(-2.0*α*μ - 1.0*λ)/(1.0*λ + 2.0*μ)]])"
      ]
     },
     "execution_count": 160,
     "metadata": {},
     "output_type": "execute_result"
    }
   ],
   "source": [
    "sympy.simplify(σ)"
   ]
  },
  {
   "cell_type": "code",
   "execution_count": 161,
   "id": "dc9637a7",
   "metadata": {},
   "outputs": [
    {
     "data": {
      "text/latex": [
       "$\\displaystyle - \\frac{1.0 fx x \\left(1.0 - α\\right)}{λ + 2 μ}$"
      ],
      "text/plain": [
       "-1.0*fx*x*(1.0 - α)/(λ + 2*μ)"
      ]
     },
     "execution_count": 161,
     "metadata": {},
     "output_type": "execute_result"
    }
   ],
   "source": [
    "ϵv"
   ]
  },
  {
   "cell_type": "code",
   "execution_count": 162,
   "id": "493ef311",
   "metadata": {},
   "outputs": [
    {
     "data": {
      "text/latex": [
       "$\\displaystyle \\left[\\begin{matrix}0\\\\0\\end{matrix}\\right]$"
      ],
      "text/plain": [
       "Matrix([\n",
       "[0],\n",
       "[0]])"
      ]
     },
     "execution_count": 162,
     "metadata": {},
     "output_type": "execute_result"
    }
   ],
   "source": [
    "sympy.simplify(q)"
   ]
  },
  {
   "cell_type": "code",
   "execution_count": 163,
   "id": "1fa48ed0",
   "metadata": {},
   "outputs": [
    {
     "data": {
      "text/latex": [
       "$\\displaystyle \\left[\\begin{matrix}0\\\\0\\end{matrix}\\right]$"
      ],
      "text/plain": [
       "Matrix([\n",
       "[0],\n",
       "[0]])"
      ]
     },
     "execution_count": 163,
     "metadata": {},
     "output_type": "execute_result"
    }
   ],
   "source": [
    "sympy.simplify(div_σ + fs)"
   ]
  },
  {
   "cell_type": "code",
   "execution_count": 164,
   "id": "47ed0659",
   "metadata": {},
   "outputs": [
    {
     "data": {
      "text/latex": [
       "$\\displaystyle \\left[\\begin{matrix}0\\\\0\\end{matrix}\\right]$"
      ],
      "text/plain": [
       "Matrix([\n",
       "[0],\n",
       "[0]])"
      ]
     },
     "execution_count": 164,
     "metadata": {},
     "output_type": "execute_result"
    }
   ],
   "source": [
    "grad_p - ff"
   ]
  },
  {
   "cell_type": "markdown",
   "id": "1d26be1d",
   "metadata": {},
   "source": [
    "## Test Case: Gravitation and Body Forces\n",
    "\n",
    "We consider the steady-state solution for loading from gravity and a uniform, constant body force in the +y direction,\n",
    "\n",
    "\\begin{gather}\n",
    "q_x = q_y = 0 \\Rightarrow \\nabla p + \\rho_f g - f_y = 0 \\\\\n",
    "p = (f_y -\\rho_f g) y\n",
    "\\end{gather}\n",
    "\n",
    "Solving the elasticity equation leads to\n",
    "\n",
    "\\begin{aligned}\n",
    "\\sigma_{yy} &= (\\rho_b g - f_y) y, \\\\\n",
    "\\sigma_{xx} &= \\sigma_{zz} = \\frac{\\lambda}{\\lambda+2\\mu} (\\rho_b g - f_y) y + \\frac{2\\mu}{\\lambda+2\\mu} \\alpha (\\rho_f g - f_y) y, \\\\\n",
    "\\sigma_{xy} &= 0, \\\\\n",
    "\\epsilon_v &= -\\frac{1}{\\lambda + 2\\mu} \\left( (\\rho_b - \\alpha \\rho_f) g - (1 - \\alpha) f_y \\right) y, \\\\\n",
    "u_x &= 0, \\\\\n",
    "u_y(y) &= -\\frac{1}{2} \\frac{1}{\\lambda+2\\mu} \\left( (\\rho_b - \\alpha \\rho_f) g - (1 - \\alpha) f_y  \\right) (l^2-y^2)\\\\\n",
    "\\end{aligned}"
   ]
  },
  {
   "cell_type": "code",
   "execution_count": 4,
   "id": "449f2ea3",
   "metadata": {},
   "outputs": [],
   "source": [
    "# Define symbolic variable\n",
    "x, y = sympy.symbols(\"x, y\")\n",
    "\n",
    "# Define symbolic constants\n",
    "g, l, fy = sympy.symbols(\"g, l, fy\")\n",
    "\n",
    "# Material parameters\n",
    "λ, μ, ϕ, α, μf, k, ρb, ρf, M = sympy.symbols(\"λ, μ, ϕ, α, μf, k, ρb, ρf, M\")\n",
    "\n",
    "# Analytical solution\n",
    "ux = 0*x\n",
    "uy = -0.5/(λ+2*μ) * ((ρb-α*ρf) * g - (1-α) * fy ) * (l**2-y**2)\n",
    "p = -(ρf * g - fy) * y\n",
    "\n",
    "# Derivatives for governing equations\n",
    "ux_x = ux.diff(x)\n",
    "ux_y = ux.diff(y)\n",
    "uy_x = uy.diff(x)\n",
    "uy_y = uy.diff(y)\n",
    "p_x = p.diff(x)\n",
    "p_y = p.diff(y)\n",
    "grad_p = sympy.Matrix([p_x, p_y])\n",
    "\n",
    "# Body force for fluid phase\n",
    "ff = sympy.Matrix([0., -ρf * g + fy])\n",
    "\n",
    "# Body force for solid phase\n",
    "fs = sympy.Matrix([0., -ρb * g + fy])\n",
    "\n",
    "# Darcy flux; Generalized Dacy's law\n",
    "q = -(k/μf)*( grad_p - ff)\n",
    "\n",
    "# Strain\n",
    "ϵxy = (ux_y + uy_x) / 2\n",
    "ϵ = sympy.Matrix([[ux_x, ϵxy],[ϵxy, uy_y]])\n",
    "ϵv = sympy.trace(ϵ)\n",
    "\n",
    "# Stress\n",
    "σ  = λ * ϵv * sympy.eye(2) + 2 * μ * ϵ - α * sympy.eye(2) * p\n",
    "\n",
    "# Variation of fluid content\n",
    "ζ = α * ϵv + p/M\n",
    "\n",
    "# Divergence of stress\n",
    "div_σ = sympy.Matrix([σ[0,0].diff(x) + σ[0,1].diff(y), σ[1,0].diff(x) + σ[1,1].diff(y)])\n",
    "\n",
    "# Divergence of flux\n",
    "div_q = q[0].diff(x) + q[1].diff(y)"
   ]
  },
  {
   "cell_type": "code",
   "execution_count": 5,
   "id": "95742a31",
   "metadata": {},
   "outputs": [
    {
     "data": {
      "text/latex": [
       "$\\displaystyle \\left[\\begin{matrix}\\frac{y \\left(- α \\left(fy - g ρf\\right) \\left(λ + 2 μ\\right) + 1.0 λ \\left(fy \\left(α - 1\\right) - g \\left(α ρf - ρb\\right)\\right)\\right)}{λ + 2 μ} & 0\\\\0 & 1.0 y \\left(- fy + g ρb\\right)\\end{matrix}\\right]$"
      ],
      "text/plain": [
       "Matrix([\n",
       "[y*(-α*(fy - g*ρf)*(λ + 2*μ) + 1.0*λ*(fy*(α - 1) - g*(α*ρf - ρb)))/(λ + 2*μ),                  0],\n",
       "[                                                                          0, 1.0*y*(-fy + g*ρb)]])"
      ]
     },
     "execution_count": 5,
     "metadata": {},
     "output_type": "execute_result"
    }
   ],
   "source": [
    "sympy.simplify(σ)"
   ]
  },
  {
   "cell_type": "code",
   "execution_count": 7,
   "id": "b01c157d",
   "metadata": {},
   "outputs": [
    {
     "data": {
      "text/latex": [
       "$\\displaystyle \\frac{1.0 y \\left(fy \\left(α - 1\\right) - g \\left(α ρf - ρb\\right)\\right)}{λ + 2 μ}$"
      ],
      "text/plain": [
       "1.0*y*(fy*(α - 1) - g*(α*ρf - ρb))/(λ + 2*μ)"
      ]
     },
     "execution_count": 7,
     "metadata": {},
     "output_type": "execute_result"
    }
   ],
   "source": [
    "sympy.simplify(ϵv)"
   ]
  },
  {
   "cell_type": "code",
   "execution_count": 8,
   "id": "2f227f3e",
   "metadata": {},
   "outputs": [
    {
     "data": {
      "text/latex": [
       "$\\displaystyle \\left[\\begin{matrix}0\\\\0\\end{matrix}\\right]$"
      ],
      "text/plain": [
       "Matrix([\n",
       "[0],\n",
       "[0]])"
      ]
     },
     "execution_count": 8,
     "metadata": {},
     "output_type": "execute_result"
    }
   ],
   "source": [
    "sympy.simplify(q)"
   ]
  },
  {
   "cell_type": "code",
   "execution_count": 9,
   "id": "2688da6e",
   "metadata": {},
   "outputs": [
    {
     "data": {
      "text/latex": [
       "$\\displaystyle \\left[\\begin{matrix}0\\\\0\\end{matrix}\\right]$"
      ],
      "text/plain": [
       "Matrix([\n",
       "[0],\n",
       "[0]])"
      ]
     },
     "execution_count": 9,
     "metadata": {},
     "output_type": "execute_result"
    }
   ],
   "source": [
    "sympy.simplify(div_σ + fs)"
   ]
  },
  {
   "cell_type": "code",
   "execution_count": 10,
   "id": "8bed5a19",
   "metadata": {},
   "outputs": [
    {
     "data": {
      "text/latex": [
       "$\\displaystyle \\left[\\begin{matrix}0\\\\0\\end{matrix}\\right]$"
      ],
      "text/plain": [
       "Matrix([\n",
       "[0],\n",
       "[0]])"
      ]
     },
     "execution_count": 10,
     "metadata": {},
     "output_type": "execute_result"
    }
   ],
   "source": [
    "grad_p - ff"
   ]
  }
 ],
 "metadata": {
  "kernelspec": {
   "display_name": "pylith-debug",
   "language": "python",
   "name": "python3"
  },
  "language_info": {
   "codemirror_mode": {
    "name": "ipython",
    "version": 3
   },
   "file_extension": ".py",
   "mimetype": "text/x-python",
   "name": "python",
   "nbconvert_exporter": "python",
   "pygments_lexer": "ipython3",
   "version": "3.12.0"
  }
 },
 "nbformat": 4,
 "nbformat_minor": 5
}
